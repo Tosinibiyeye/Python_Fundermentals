{
 "cells": [
  {
   "cell_type": "markdown",
   "id": "7a877331-63fc-4556-9804-632c53cf0dcd",
   "metadata": {},
   "source": [
    "- Extract all keys of a dict, into a List of elements ( getting a list of all keys in a dictionary. )\n",
    "- Write the defines of the different data structures (just a summary) you can check out some resources on greekforgeeks, w3schools, or realpython.org\n",
    "- Read about list slicing and Remove function (you will discuss how it works, this coming week)\n",
    "- Create lists, tuples, sets, dicts\n",
    "-   Remove elements from list, tuple and set\n",
    "-  Add element to list,tuple, sets, and dict\n",
    "-  Also on the dict try to reassign a new valus to a key in a dict and also adding a new key-value pair "
   ]
  },
  {
   "cell_type": "markdown",
   "id": "7eb5ce7d-7322-45c5-9f14-1d0b1eb7a6c4",
   "metadata": {},
   "source": [
    "## Different data structures "
   ]
  },
  {
   "cell_type": "markdown",
   "id": "540b569f-480c-4f1f-aef1-36043794d733",
   "metadata": {},
   "source": [
    "# List "
   ]
  },
  {
   "cell_type": "markdown",
   "id": "265650d7-e64b-4ddd-a10e-1e3488115ac4",
   "metadata": {},
   "source": [
    "- List in python is refers to collection of ordered items \n",
    "- a list is mutable\n",
    "- a list can store multiple items of different types, integers, strings, floats, or even other lists"
   ]
  },
  {
   "cell_type": "code",
   "execution_count": 2,
   "id": "a73a7437-1478-42cc-9126-eaa5188f5baa",
   "metadata": {},
   "outputs": [],
   "source": [
    "# Creating a list\n",
    "my_list = [1, \"apple\", 3.14, [2, 3, 4]]"
   ]
  },
  {
   "cell_type": "code",
   "execution_count": 7,
   "id": "2533fe4c-1caa-453c-ada7-a7a83f611904",
   "metadata": {},
   "outputs": [
    {
     "name": "stdout",
     "output_type": "stream",
     "text": [
      "apple\n"
     ]
    }
   ],
   "source": [
    "# Accessing elements\n",
    "print(my_list[1])  # Output: \"apple\""
   ]
  },
  {
   "cell_type": "code",
   "execution_count": 11,
   "id": "fde5961d-2a72-41cb-b366-8805cfd3837e",
   "metadata": {},
   "outputs": [
    {
     "name": "stdout",
     "output_type": "stream",
     "text": [
      "[200, 'apple', 3.14, [2, 3, 4]]\n"
     ]
    }
   ],
   "source": [
    "# Modifying elements\n",
    "my_list[0] = 200\n",
    "print(my_list)  "
   ]
  },
  {
   "cell_type": "code",
   "execution_count": 12,
   "id": "abd47dcf-09f7-41a7-9929-c12cec16b822",
   "metadata": {},
   "outputs": [
    {
     "name": "stdout",
     "output_type": "stream",
     "text": [
      "[200, 'apple', 3.14, [2, 3, 4], 'ball']\n"
     ]
    }
   ],
   "source": [
    "# Adding elements\n",
    "my_list.append(\"ball\")\n",
    "print(my_list) "
   ]
  },
  {
   "cell_type": "code",
   "execution_count": 13,
   "id": "78cc4125-0f65-445a-81f4-f984bc6b58bd",
   "metadata": {},
   "outputs": [
    {
     "name": "stdout",
     "output_type": "stream",
     "text": [
      "[200, 3.14, [2, 3, 4], 'ball']\n"
     ]
    }
   ],
   "source": [
    "# Removing elements\n",
    "my_list.remove('apple')\n",
    "print(my_list) "
   ]
  },
  {
   "cell_type": "markdown",
   "id": "6b7fe269-ebb8-4cd1-8851-6d463991bda2",
   "metadata": {},
   "source": [
    "# tuple"
   ]
  },
  {
   "cell_type": "markdown",
   "id": "ae74edd5-31c0-4d6b-9c8c-c20a8805cdaf",
   "metadata": {},
   "source": [
    "- A tuple is ordered collection of items\n",
    "- tuples can hold elements of different data types: integers, strings, floats,\n",
    "- but tuple is immutable (Once a tuple is created, you cannot change (add, remove, or modify) its elements)"
   ]
  },
  {
   "cell_type": "code",
   "execution_count": 5,
   "id": "53d06cb8-dc67-4188-830f-185de667d68a",
   "metadata": {},
   "outputs": [],
   "source": [
    "# Creating a tuple\n",
    "my_tuple = (1, \"apple\", 3.14)"
   ]
  },
  {
   "cell_type": "code",
   "execution_count": 6,
   "id": "823441d0-34a8-426e-8f65-44395debe1f5",
   "metadata": {},
   "outputs": [
    {
     "name": "stdout",
     "output_type": "stream",
     "text": [
      "apple\n"
     ]
    }
   ],
   "source": [
    "# Accessing elements\n",
    "print(my_tuple[1])  # Output: \"apple\""
   ]
  },
  {
   "cell_type": "code",
   "execution_count": 14,
   "id": "33b44b83-8028-479a-9e94-96dcd514e1a7",
   "metadata": {},
   "outputs": [
    {
     "ename": "TypeError",
     "evalue": "'tuple' object does not support item assignment",
     "output_type": "error",
     "traceback": [
      "\u001b[1;31m---------------------------------------------------------------------------\u001b[0m",
      "\u001b[1;31mTypeError\u001b[0m                                 Traceback (most recent call last)",
      "Cell \u001b[1;32mIn[14], line 2\u001b[0m\n\u001b[0;32m      1\u001b[0m \u001b[38;5;66;03m# Trying to modify an element (this will raise an error)\u001b[39;00m\n\u001b[1;32m----> 2\u001b[0m \u001b[43mmy_tuple\u001b[49m\u001b[43m[\u001b[49m\u001b[38;5;241;43m0\u001b[39;49m\u001b[43m]\u001b[49m \u001b[38;5;241m=\u001b[39m \u001b[38;5;241m100\u001b[39m  \u001b[38;5;66;03m# TypeError: 'tuple' object does not support item assignment\u001b[39;00m\n",
      "\u001b[1;31mTypeError\u001b[0m: 'tuple' object does not support item assignment"
     ]
    }
   ],
   "source": [
    "# Trying to modify an element (this will raise an error)\n",
    "my_tuple[0] = 100  # TypeError: 'tuple' object does not support item assignment"
   ]
  },
  {
   "cell_type": "code",
   "execution_count": 15,
   "id": "b1769ca4-44d9-402f-a919-c2bf20aff614",
   "metadata": {},
   "outputs": [
    {
     "name": "stdout",
     "output_type": "stream",
     "text": [
      "3\n"
     ]
    }
   ],
   "source": [
    "# Tuples can contain other tuples\n",
    "nested_tuple = (1, (2, 3), \"banana\")\n",
    "print(nested_tuple[1][1])  "
   ]
  },
  {
   "cell_type": "markdown",
   "id": "8dd75ce7-993d-47fc-ba30-6d1de1075cfa",
   "metadata": {},
   "source": [
    "# set"
   ]
  },
  {
   "cell_type": "markdown",
   "id": "22fef9fe-3ed7-4778-8d5e-a9fa95f75ff7",
   "metadata": {},
   "source": [
    "- a set is mutable collection of unique items\n",
    "- a set is an unordered items\n",
    "- a set can store multiple elements\n",
    "- a set do not allow duplicate values"
   ]
  },
  {
   "cell_type": "code",
   "execution_count": 17,
   "id": "baf78627-8af2-458f-a76a-7693a541772e",
   "metadata": {},
   "outputs": [
    {
     "name": "stdout",
     "output_type": "stream",
     "text": [
      "{1, 2, 3, 'apple', 'banana'}\n"
     ]
    }
   ],
   "source": [
    "# Creating a set\n",
    "my_set = {1, 2, 3, \"apple\", \"banana\"}\n",
    "print(my_set)"
   ]
  },
  {
   "cell_type": "code",
   "execution_count": 19,
   "id": "3736f896-2ae5-4a5a-995d-f8ac254dd60f",
   "metadata": {},
   "outputs": [
    {
     "name": "stdout",
     "output_type": "stream",
     "text": [
      "{1, 2, 3, 'apple', 'ball', 'banana'}\n"
     ]
    }
   ],
   "source": [
    "# Adding elements to a set\n",
    "my_set.add(\"ball\")\n",
    "print(my_set)  "
   ]
  },
  {
   "cell_type": "code",
   "execution_count": 25,
   "id": "25ac8e43-bcb9-4c46-a024-1ddfe6efcff3",
   "metadata": {},
   "outputs": [
    {
     "name": "stdout",
     "output_type": "stream",
     "text": [
      "{1, 'apple', 'ball', 'banana'}\n"
     ]
    }
   ],
   "source": [
    "# Removing elements from a set\n",
    "my_set.remove(2)\n",
    "print(my_set) "
   ]
  },
  {
   "cell_type": "code",
   "execution_count": 27,
   "id": "a794960d-659f-421a-be59-35c5a838c228",
   "metadata": {},
   "outputs": [
    {
     "name": "stdout",
     "output_type": "stream",
     "text": [
      "{1, 'apple', 'ball', 'banana'}\n"
     ]
    }
   ],
   "source": [
    "# Trying to add duplicates\n",
    "my_set.add(\"ball\")\n",
    "print(my_set)"
   ]
  },
  {
   "cell_type": "markdown",
   "id": "737fa250-be06-4670-9fc3-36287cb6ac11",
   "metadata": {},
   "source": [
    "# Dictionary"
   ]
  },
  {
   "cell_type": "markdown",
   "id": "01257c63-e336-4c81-b07c-0102ce87fcd4",
   "metadata": {},
   "source": [
    "- a dictionary is a mutable items \n",
    "- a dictionary unordered collection of key-value pairs.\n",
    "- a Each key in a dictionary is unique and is used to access its corresponding value\n",
    "- No duplicate keys: Each key in a dictionary must be unique\n"
   ]
  },
  {
   "cell_type": "code",
   "execution_count": 29,
   "id": "ad1c5d57-55a6-4121-bb2c-70872a7031c0",
   "metadata": {},
   "outputs": [],
   "source": [
    "# Creating a dictionary\n",
    "my_dict = {\n",
    "    \"name\": \"John\",\n",
    "    \"age\": 30,\n",
    "    \"country\": \"USA\"\n",
    "}"
   ]
  },
  {
   "cell_type": "code",
   "execution_count": 30,
   "id": "012f06d9-a8cc-47ca-8034-fc13b9f5f4c8",
   "metadata": {},
   "outputs": [
    {
     "name": "stdout",
     "output_type": "stream",
     "text": [
      "John\n"
     ]
    }
   ],
   "source": [
    "# Accessing values by key\n",
    "print(my_dict[\"name\"])"
   ]
  },
  {
   "cell_type": "code",
   "execution_count": 32,
   "id": "5b6774a1-97b2-4454-9783-2000efb320ca",
   "metadata": {},
   "outputs": [
    {
     "name": "stdout",
     "output_type": "stream",
     "text": [
      "{'name': 'John', 'age': 31, 'Occupation': 'Engineer'}\n"
     ]
    }
   ],
   "source": [
    "# Adding or updating a key-value pair\n",
    "my_dict[\"Occupation\"] = \"Engineer\"  # Adding a new key\n",
    "my_dict[\"age\"] = 31  # Updating an existing key\n",
    "del my_dict[\"country\"]\n",
    "print(my_dict)"
   ]
  },
  {
   "cell_type": "code",
   "execution_count": null,
   "id": "f17936f4-ed28-48c4-9b46-9507178c2214",
   "metadata": {},
   "outputs": [],
   "source": []
  },
  {
   "cell_type": "code",
   "execution_count": null,
   "id": "82aab7b9-70b2-4cb7-bb12-700de9a4b3c7",
   "metadata": {},
   "outputs": [],
   "source": []
  },
  {
   "cell_type": "code",
   "execution_count": null,
   "id": "f134bf3f-5aa8-479d-b5d2-c578b8d1120d",
   "metadata": {},
   "outputs": [],
   "source": []
  },
  {
   "cell_type": "code",
   "execution_count": null,
   "id": "4440dcc0-262c-459c-a3a2-1f951f67fe9b",
   "metadata": {},
   "outputs": [],
   "source": []
  },
  {
   "cell_type": "code",
   "execution_count": null,
   "id": "abcdc308-f061-4b18-8ecc-96b37c305bc1",
   "metadata": {},
   "outputs": [],
   "source": []
  },
  {
   "cell_type": "code",
   "execution_count": null,
   "id": "95392388-19fb-4af5-bb29-4e1a8a275cde",
   "metadata": {},
   "outputs": [],
   "source": []
  },
  {
   "cell_type": "code",
   "execution_count": null,
   "id": "9e32b598-ab28-4986-9595-2bd28b2f3aed",
   "metadata": {},
   "outputs": [],
   "source": []
  },
  {
   "cell_type": "code",
   "execution_count": null,
   "id": "4a9c87c8-b7b0-4690-80c2-5da9df657845",
   "metadata": {},
   "outputs": [],
   "source": []
  },
  {
   "cell_type": "code",
   "execution_count": null,
   "id": "56e0de1b-5cfa-4cba-9511-1b63cda9c940",
   "metadata": {},
   "outputs": [],
   "source": []
  },
  {
   "cell_type": "code",
   "execution_count": null,
   "id": "b984417c-0088-4f5a-87b6-4984c872948c",
   "metadata": {},
   "outputs": [],
   "source": []
  },
  {
   "cell_type": "code",
   "execution_count": null,
   "id": "247911ff-94f6-4eb0-a087-622ca6e02fb4",
   "metadata": {},
   "outputs": [],
   "source": []
  },
  {
   "cell_type": "code",
   "execution_count": null,
   "id": "62523671-510e-44c3-962f-2f281a96451f",
   "metadata": {},
   "outputs": [],
   "source": []
  },
  {
   "cell_type": "code",
   "execution_count": null,
   "id": "4a981a35-e0eb-4b22-8d52-0cab2f738223",
   "metadata": {},
   "outputs": [],
   "source": []
  },
  {
   "cell_type": "code",
   "execution_count": null,
   "id": "176fbd0a-76f7-4a7e-ac5e-6fa966a86eff",
   "metadata": {},
   "outputs": [],
   "source": []
  },
  {
   "cell_type": "code",
   "execution_count": null,
   "id": "e36b3974-54cc-4bc3-8454-08622a628998",
   "metadata": {},
   "outputs": [],
   "source": []
  },
  {
   "cell_type": "code",
   "execution_count": null,
   "id": "4ef8aeb0-7165-4559-ac96-8e8961c51d94",
   "metadata": {},
   "outputs": [],
   "source": []
  },
  {
   "cell_type": "code",
   "execution_count": null,
   "id": "83741759-9733-424f-a859-519e51db185b",
   "metadata": {},
   "outputs": [],
   "source": []
  },
  {
   "cell_type": "code",
   "execution_count": null,
   "id": "8467eb6c-dfba-4017-8515-6a9481c32f94",
   "metadata": {},
   "outputs": [],
   "source": []
  },
  {
   "cell_type": "code",
   "execution_count": null,
   "id": "510b42ff-2bdf-4fc5-809e-ae946a2e7ebf",
   "metadata": {},
   "outputs": [],
   "source": []
  }
 ],
 "metadata": {
  "kernelspec": {
   "display_name": "Python [conda env:env_mytest]",
   "language": "python",
   "name": "conda-env-env_mytest-py"
  },
  "language_info": {
   "codemirror_mode": {
    "name": "ipython",
    "version": 3
   },
   "file_extension": ".py",
   "mimetype": "text/x-python",
   "name": "python",
   "nbconvert_exporter": "python",
   "pygments_lexer": "ipython3",
   "version": "3.12.4"
  }
 },
 "nbformat": 4,
 "nbformat_minor": 5
}
