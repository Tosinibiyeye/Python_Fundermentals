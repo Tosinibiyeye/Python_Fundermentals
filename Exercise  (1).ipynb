{
 "cells": [
  {
   "cell_type": "code",
   "execution_count": 1,
   "id": "a005c13b-cf1f-453d-a3e8-9d75ef3f339e",
   "metadata": {},
   "outputs": [],
   "source": [
    "import pandas as pd"
   ]
  },
  {
   "cell_type": "code",
   "execution_count": 2,
   "id": "a0b3b90f-4b90-47ca-9c09-0e0f8168cf21",
   "metadata": {},
   "outputs": [],
   "source": [
    "# ABC Group Information Security Team\n",
    "first_name = ('Segun', 'Reginald', 'Osita', 'Wole')\n",
    "last_name = ('Oluwasanmi', 'Akuwudike','Oniya', 'Fajinmi')"
   ]
  },
  {
   "cell_type": "code",
   "execution_count": 3,
   "id": "ed52bb2c-833f-49aa-b588-fa323d93d5c4",
   "metadata": {},
   "outputs": [
    {
     "name": "stdout",
     "output_type": "stream",
     "text": [
      "('Segun', 'Reginald', 'Osita', 'Wole', 'Oluwasanmi', 'Akuwudike', 'Oniya', 'Fajinmi')\n"
     ]
    }
   ],
   "source": [
    "print ( first_name + last_name)"
   ]
  },
  {
   "cell_type": "code",
   "execution_count": 4,
   "id": "ea6fdb17-5e8e-4b99-930b-2d6235d3e80a",
   "metadata": {},
   "outputs": [],
   "source": [
    "# ABC Group Information Security Team\n",
    "first_name = 'Segun'\n",
    "last_name = 'Oluwasanmi'"
   ]
  },
  {
   "cell_type": "code",
   "execution_count": 5,
   "id": "269798d2-9ed0-4bc0-89e5-88d37e6eee7a",
   "metadata": {},
   "outputs": [
    {
     "name": "stdout",
     "output_type": "stream",
     "text": [
      "SegunOluwasanmi\n"
     ]
    }
   ],
   "source": [
    "print ( first_name  + last_name)"
   ]
  },
  {
   "cell_type": "code",
   "execution_count": 6,
   "id": "04375762-6d80-4c60-80e1-b666184a3256",
   "metadata": {},
   "outputs": [],
   "source": [
    "a= 10 \n",
    "b= 20"
   ]
  },
  {
   "cell_type": "code",
   "execution_count": 7,
   "id": "9508b098-cf2e-40b8-b7c2-ff8d06f739d6",
   "metadata": {},
   "outputs": [],
   "source": [
    "addition = a + b\n",
    "divide = b/a\n",
    "difference =a-b"
   ]
  },
  {
   "cell_type": "code",
   "execution_count": 8,
   "id": "34df88aa-fe21-47d4-8a7e-a4fddc60e17f",
   "metadata": {},
   "outputs": [
    {
     "data": {
      "text/plain": [
       "30"
      ]
     },
     "execution_count": 8,
     "metadata": {},
     "output_type": "execute_result"
    }
   ],
   "source": [
    "a + b"
   ]
  },
  {
   "cell_type": "code",
   "execution_count": 9,
   "id": "554c8a52-3127-4c43-b06c-9b98e77e5a3a",
   "metadata": {},
   "outputs": [
    {
     "data": {
      "text/plain": [
       "2.0"
      ]
     },
     "execution_count": 9,
     "metadata": {},
     "output_type": "execute_result"
    }
   ],
   "source": [
    "b / a"
   ]
  },
  {
   "cell_type": "code",
   "execution_count": 10,
   "id": "c3bdc993-45e2-455a-bb70-57b74d41bb9d",
   "metadata": {},
   "outputs": [
    {
     "data": {
      "text/plain": [
       "-10"
      ]
     },
     "execution_count": 10,
     "metadata": {},
     "output_type": "execute_result"
    }
   ],
   "source": [
    "a - b"
   ]
  },
  {
   "cell_type": "code",
   "execution_count": 11,
   "id": "17312e6c-6ff5-4f36-bae1-fef3485b923a",
   "metadata": {},
   "outputs": [],
   "source": [
    "# ABC Group Information Security Team\n",
    "first_name = 'Segun', 'Reginald', 'Osita', 'Wole'\n",
    "Score  = 25"
   ]
  },
  {
   "cell_type": "code",
   "execution_count": 12,
   "id": "45737d32-cf17-4571-94c3-e785007b20a8",
   "metadata": {},
   "outputs": [],
   "source": [
    "Score  = 25"
   ]
  },
  {
   "cell_type": "code",
   "execution_count": 13,
   "id": "06712c48-d4be-4e17-a285-43dfa75cd78d",
   "metadata": {},
   "outputs": [
    {
     "name": "stdout",
     "output_type": "stream",
     "text": [
      "pass\n"
     ]
    }
   ],
   "source": [
    "if Score >= 25:\n",
    "    print ('pass')\n",
    "else:\n",
    "    print ('failure')"
   ]
  },
  {
   "cell_type": "code",
   "execution_count": 14,
   "id": "221be0cb-4ab8-4d58-9cec-7acb62aa21b5",
   "metadata": {},
   "outputs": [],
   "source": [
    "age = 50"
   ]
  },
  {
   "cell_type": "code",
   "execution_count": 15,
   "id": "61f5450a-0a72-4582-9b92-a4e8cca28ce9",
   "metadata": {},
   "outputs": [],
   "source": [
    "isOld = False"
   ]
  },
  {
   "cell_type": "code",
   "execution_count": 16,
   "id": "6e7e9903-dc68-4777-96b7-c38933eeaaf2",
   "metadata": {},
   "outputs": [
    {
     "name": "stdout",
     "output_type": "stream",
     "text": [
      "You are still young\n"
     ]
    }
   ],
   "source": [
    "if age > 50:\n",
    "    print('You are old!')\n",
    "elif age == 40: \n",
    "    print('You are getting old!')\n",
    "else: \n",
    "    print('You are still young')"
   ]
  },
  {
   "cell_type": "code",
   "execution_count": 17,
   "id": "6b7b3f69-220c-44e1-9c39-3d28567417ca",
   "metadata": {},
   "outputs": [
    {
     "name": "stdout",
     "output_type": "stream",
     "text": [
      "You are old!\n"
     ]
    }
   ],
   "source": [
    "if age >= 50:\n",
    "    print('You are old!')\n",
    "elif age == 40: \n",
    "    print('You are getting old!')\n",
    "else: \n",
    "    print('You are still young')"
   ]
  },
  {
   "cell_type": "code",
   "execution_count": 18,
   "id": "7f8e7aa3-9121-49b9-b057-08539c02b9f4",
   "metadata": {},
   "outputs": [
    {
     "name": "stdout",
     "output_type": "stream",
     "text": [
      "You are still young\n"
     ]
    }
   ],
   "source": [
    "if age < 40:\n",
    "    print('You are old!')\n",
    "elif age == 40: \n",
    "    print('You are getting old!')\n",
    "else: \n",
    "    print('You are still young')"
   ]
  },
  {
   "cell_type": "code",
   "execution_count": null,
   "id": "2dc9a31e-6d51-4c12-a3d7-47c148a4a3d7",
   "metadata": {},
   "outputs": [],
   "source": []
  },
  {
   "cell_type": "code",
   "execution_count": null,
   "id": "32184537-4793-4382-8b4f-70b49cccaad0",
   "metadata": {},
   "outputs": [],
   "source": []
  },
  {
   "cell_type": "code",
   "execution_count": null,
   "id": "5236dfeb-2ff3-4db7-88c7-f22ac1b87160",
   "metadata": {},
   "outputs": [],
   "source": []
  },
  {
   "cell_type": "code",
   "execution_count": null,
   "id": "86ed1225-fc47-4005-a1e7-64922250c425",
   "metadata": {},
   "outputs": [],
   "source": []
  },
  {
   "cell_type": "code",
   "execution_count": null,
   "id": "6e6b7214-b03a-46c9-8e37-b7365cab3619",
   "metadata": {},
   "outputs": [],
   "source": []
  },
  {
   "cell_type": "code",
   "execution_count": null,
   "id": "369ea8ac-4e6b-40e8-81ff-cf1cfeb8c1a5",
   "metadata": {},
   "outputs": [],
   "source": []
  },
  {
   "cell_type": "code",
   "execution_count": null,
   "id": "79e6a09f-ad8b-4482-9750-20a8e79d8137",
   "metadata": {},
   "outputs": [],
   "source": []
  }
 ],
 "metadata": {
  "kernelspec": {
   "display_name": "Python 3 (ipykernel)",
   "language": "python",
   "name": "python3"
  },
  "language_info": {
   "codemirror_mode": {
    "name": "ipython",
    "version": 3
   },
   "file_extension": ".py",
   "mimetype": "text/x-python",
   "name": "python",
   "nbconvert_exporter": "python",
   "pygments_lexer": "ipython3",
   "version": "3.11.7"
  }
 },
 "nbformat": 4,
 "nbformat_minor": 5
}
