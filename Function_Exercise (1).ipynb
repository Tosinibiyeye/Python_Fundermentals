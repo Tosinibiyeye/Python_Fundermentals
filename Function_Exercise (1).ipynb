{
 "cells": [
  {
   "cell_type": "markdown",
   "id": "dcfb9538-9f5a-478b-bffd-732bd64b6bad",
   "metadata": {},
   "source": [
    "# Python Functions "
   ]
  },
  {
   "cell_type": "code",
   "execution_count": 5,
   "id": "e90b1453-b31f-46db-89a3-788226651387",
   "metadata": {},
   "outputs": [],
   "source": [
    "def happy_birthday():\n",
    "    print('Happy birthday to you')\n",
    "    print('Happy birthday to you')\n",
    "    print('You are old')\n",
    "    print()"
   ]
  },
  {
   "cell_type": "code",
   "execution_count": 6,
   "id": "dc65c124-6ff6-41c1-b7b4-1be78d1ac96a",
   "metadata": {},
   "outputs": [
    {
     "name": "stdout",
     "output_type": "stream",
     "text": [
      "Happy birthday to you\n",
      "Happy birthday to you\n",
      "You are old\n",
      "\n"
     ]
    }
   ],
   "source": [
    "happy_birthday()"
   ]
  },
  {
   "cell_type": "code",
   "execution_count": 7,
   "id": "6029298b-5894-4b79-ae5c-a59fd8c3fee0",
   "metadata": {},
   "outputs": [
    {
     "name": "stdout",
     "output_type": "stream",
     "text": [
      "Happy birthday to you\n",
      "Happy birthday to you\n",
      "You are old\n",
      "\n",
      "Happy birthday to you\n",
      "Happy birthday to you\n",
      "You are old\n",
      "\n",
      "Happy birthday to you\n",
      "Happy birthday to you\n",
      "You are old\n",
      "\n"
     ]
    }
   ],
   "source": [
    "happy_birthday()\n",
    "happy_birthday()\n",
    "happy_birthday()"
   ]
  },
  {
   "cell_type": "code",
   "execution_count": 10,
   "id": "023d65a0-4e6c-4706-8e8a-39d40846adcc",
   "metadata": {},
   "outputs": [],
   "source": [
    "def happy_birthday(name):\n",
    "    print(f'Happy birthday to {name}')\n",
    "    print('Happy birthday to you')\n",
    "    print('You are old')\n",
    "    print()"
   ]
  },
  {
   "cell_type": "code",
   "execution_count": 11,
   "id": "1d70b177-4081-42c1-b6ed-95119ed82d1f",
   "metadata": {},
   "outputs": [
    {
     "name": "stdout",
     "output_type": "stream",
     "text": [
      "Happy birthday to Ayo\n",
      "Happy birthday to you\n",
      "You are old\n",
      "\n"
     ]
    }
   ],
   "source": [
    "happy_birthday('Ayo')"
   ]
  },
  {
   "cell_type": "code",
   "execution_count": 12,
   "id": "b1f14f1d-0d38-49fa-a788-18ca714ea305",
   "metadata": {},
   "outputs": [],
   "source": [
    "def happy_birthday(name, age):\n",
    "    print(f'Happy birthday to {name}')\n",
    "    print('Happy birthday to you')\n",
    "    print(f'You are {age} year old')\n",
    "    print()"
   ]
  },
  {
   "cell_type": "code",
   "execution_count": 13,
   "id": "055d2125-4caf-4675-91a8-8add3170e294",
   "metadata": {},
   "outputs": [
    {
     "name": "stdout",
     "output_type": "stream",
     "text": [
      "Happy birthday to Ayo\n",
      "Happy birthday to you\n",
      "You are 50 year old\n",
      "\n"
     ]
    }
   ],
   "source": [
    "happy_birthday('Ayo', 50)"
   ]
  },
  {
   "cell_type": "markdown",
   "id": "1c826016-a580-4761-9adb-2cd4faaa1cf8",
   "metadata": {},
   "source": [
    "# Return statement "
   ]
  },
  {
   "cell_type": "code",
   "execution_count": 17,
   "id": "13e34c25-d421-4086-898c-65008502623b",
   "metadata": {},
   "outputs": [],
   "source": [
    "def create_name(first, last):\n",
    "    return first + last\n",
    "full_name = create_name('john','clark')\n",
    "full_name = create_name('ayo','biden')"
   ]
  },
  {
   "cell_type": "code",
   "execution_count": 18,
   "id": "540ca420-05fb-4019-8970-f5fd87079607",
   "metadata": {},
   "outputs": [
    {
     "name": "stdout",
     "output_type": "stream",
     "text": [
      "ayobiden\n"
     ]
    }
   ],
   "source": [
    "print(full_name)"
   ]
  },
  {
   "cell_type": "code",
   "execution_count": 22,
   "id": "47143976-d07f-4c29-9085-b6581abdfaa7",
   "metadata": {},
   "outputs": [],
   "source": [
    "def create_name(first, last):\n",
    "    return first + ' '+ last \n",
    "full_name = create_name('john','clark')"
   ]
  },
  {
   "cell_type": "code",
   "execution_count": 23,
   "id": "c687abea-6230-4308-ba45-cbafc5d28d6e",
   "metadata": {},
   "outputs": [
    {
     "name": "stdout",
     "output_type": "stream",
     "text": [
      "john clark\n"
     ]
    }
   ],
   "source": [
    "print(full_name)"
   ]
  },
  {
   "cell_type": "code",
   "execution_count": 24,
   "id": "a67c9407-2ed0-42f2-986a-c4346b43c1bb",
   "metadata": {},
   "outputs": [],
   "source": [
    "def create_name(first, last):\n",
    "    return first.capitalize() + ' '+ last.capitalize()\n",
    "full_name = create_name('john','clark')"
   ]
  },
  {
   "cell_type": "code",
   "execution_count": 25,
   "id": "4510ac6f-fa93-42fa-951b-11ec08b67629",
   "metadata": {},
   "outputs": [
    {
     "name": "stdout",
     "output_type": "stream",
     "text": [
      "John Clark\n"
     ]
    }
   ],
   "source": [
    "print(full_name)"
   ]
  },
  {
   "cell_type": "code",
   "execution_count": null,
   "id": "20abfd09-25c6-44a4-8bda-67e93fd736b8",
   "metadata": {},
   "outputs": [],
   "source": [
    "# Return statement/mapping statement"
   ]
  },
  {
   "cell_type": "code",
   "execution_count": 29,
   "id": "2cf1bbc4-e085-4db3-a873-8356979dbd09",
   "metadata": {},
   "outputs": [],
   "source": [
    "def function (x):\n",
    "    return 10 * x"
   ]
  },
  {
   "cell_type": "code",
   "execution_count": 37,
   "id": "d38a7b70-96ff-4148-93b0-1879cb76fea8",
   "metadata": {},
   "outputs": [],
   "source": [
    "a = function (4)\n",
    "b = function (10)\n",
    "c = function (20)"
   ]
  },
  {
   "cell_type": "code",
   "execution_count": 41,
   "id": "73eff5e2-3797-4059-a25e-73d40feea7b9",
   "metadata": {},
   "outputs": [
    {
     "data": {
      "text/plain": [
       "40"
      ]
     },
     "execution_count": 41,
     "metadata": {},
     "output_type": "execute_result"
    }
   ],
   "source": [
    "a"
   ]
  },
  {
   "cell_type": "code",
   "execution_count": 42,
   "id": "856cc0c5-4215-4d90-80e0-4ffd0cbba129",
   "metadata": {},
   "outputs": [
    {
     "data": {
      "text/plain": [
       "100"
      ]
     },
     "execution_count": 42,
     "metadata": {},
     "output_type": "execute_result"
    }
   ],
   "source": [
    "b"
   ]
  },
  {
   "cell_type": "code",
   "execution_count": 43,
   "id": "b1658e8f-fec2-4717-ba4a-6265d499d78f",
   "metadata": {},
   "outputs": [
    {
     "data": {
      "text/plain": [
       "200"
      ]
     },
     "execution_count": 43,
     "metadata": {},
     "output_type": "execute_result"
    }
   ],
   "source": [
    "c"
   ]
  },
  {
   "cell_type": "markdown",
   "id": "c02e15a1-6078-486d-8cb3-43136a306380",
   "metadata": {},
   "source": [
    "# student cgp grading "
   ]
  },
  {
   "cell_type": "code",
   "execution_count": 66,
   "id": "a925b374-8867-474d-87ac-2a083e62cd27",
   "metadata": {},
   "outputs": [],
   "source": [
    "# cgp calaculator\n",
    "name1 = 'john'\n",
    "total_score1 = 640\n",
    "number_of_course1 =10\n",
    "\n",
    "name2 = 'peter'\n",
    "total_score2  = 890\n",
    "number_of_course2 =10\n",
    "\n",
    "name3 = 'terry'\n",
    "total_score3  = 510\n",
    "number_of_course3 =10"
   ]
  },
  {
   "cell_type": "code",
   "execution_count": 76,
   "id": "63a52c38-1141-4f5f-ae0c-a070fa2e0db9",
   "metadata": {},
   "outputs": [],
   "source": [
    "def cgp_calaculator( name, total_score, number_of_course):\n",
    "    cgp= total_score / (number_of_course)\n",
    "    print(\"cgp:\")\n",
    "    print(cgp)\n",
    "    if cgp < 60:\n",
    "        return name + \"pass\"\n",
    "    else:\n",
    "        return name + \"credit\" "
   ]
  },
  {
   "cell_type": "code",
   "execution_count": 77,
   "id": "b479f56b-90ea-41de-b804-c2d8f3ac55f0",
   "metadata": {},
   "outputs": [
    {
     "name": "stdout",
     "output_type": "stream",
     "text": [
      "cgp:\n",
      "64.0\n",
      "cgp:\n",
      "89.0\n",
      "cgp:\n",
      "51.0\n"
     ]
    }
   ],
   "source": [
    "cgp1 = cgp_calaculator (name1, total_score1, number_of_course1)\n",
    "cgp2 = cgp_calaculator (name2, total_score2, number_of_course2)\n",
    "cgp3 = cgp_calaculator (name3, total_score3, number_of_course3)"
   ]
  },
  {
   "cell_type": "code",
   "execution_count": 78,
   "id": "6d489380-396f-4c89-bd91-94ef422c3dc5",
   "metadata": {},
   "outputs": [
    {
     "name": "stdout",
     "output_type": "stream",
     "text": [
      "johncredit\n",
      "petercredit\n",
      "terrypass\n"
     ]
    }
   ],
   "source": [
    "print(cgp1)\n",
    "print(cgp2)\n",
    "print(cgp3)"
   ]
  },
  {
   "cell_type": "code",
   "execution_count": null,
   "id": "438030a5-ed43-4291-8b90-e01bc822d288",
   "metadata": {},
   "outputs": [],
   "source": []
  },
  {
   "cell_type": "code",
   "execution_count": null,
   "id": "47be0265-89b4-4f18-a56f-929ce6ad1505",
   "metadata": {},
   "outputs": [],
   "source": []
  },
  {
   "cell_type": "code",
   "execution_count": null,
   "id": "3f307be9-04eb-4149-8e03-4f367935752e",
   "metadata": {},
   "outputs": [],
   "source": []
  },
  {
   "cell_type": "code",
   "execution_count": null,
   "id": "4cf3abac-c9de-4a9c-bcad-dd042840cac0",
   "metadata": {},
   "outputs": [],
   "source": []
  },
  {
   "cell_type": "code",
   "execution_count": null,
   "id": "682d90c2-6d66-4bea-bb84-dece814226e5",
   "metadata": {},
   "outputs": [],
   "source": []
  }
 ],
 "metadata": {
  "kernelspec": {
   "display_name": "Python [conda env:env_mytest]",
   "language": "python",
   "name": "conda-env-env_mytest-py"
  },
  "language_info": {
   "codemirror_mode": {
    "name": "ipython",
    "version": 3
   },
   "file_extension": ".py",
   "mimetype": "text/x-python",
   "name": "python",
   "nbconvert_exporter": "python",
   "pygments_lexer": "ipython3",
   "version": "3.12.4"
  }
 },
 "nbformat": 4,
 "nbformat_minor": 5
}
